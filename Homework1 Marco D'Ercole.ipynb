{
 "cells": [
  {
   "cell_type": "markdown",
   "id": "6f103204",
   "metadata": {},
   "source": [
    "### Homework 1 di Marco D'Ercole - matricola 1874366"
   ]
  },
  {
   "cell_type": "markdown",
   "id": "b8a59a6b",
   "metadata": {},
   "source": [
    "#####  Introduction - Say \"Hello, World!\" With Python"
   ]
  },
  {
   "cell_type": "code",
   "execution_count": 2,
   "id": "9733f5de",
   "metadata": {},
   "outputs": [
    {
     "name": "stdout",
     "output_type": "stream",
     "text": [
      "Hello, World!\n"
     ]
    }
   ],
   "source": [
    "print(\"Hello, World!\")"
   ]
  },
  {
   "cell_type": "markdown",
   "id": "7f5f680b",
   "metadata": {},
   "source": [
    "##### Introduction - Python If-Else"
   ]
  },
  {
   "cell_type": "code",
   "execution_count": null,
   "id": "e97dc7fc",
   "metadata": {},
   "outputs": [],
   "source": [
    "#!/bin/python3\n",
    "\n",
    "import math\n",
    "import os\n",
    "import random\n",
    "import re\n",
    "import sys\n",
    "\n",
    "if __name__ == '__main__':\n",
    "    n = int(input().strip())\n",
    "    if n >= 1 and n <= 100:\n",
    "        if int(n%2) == 1:\n",
    "            print(\"Weird\")\n",
    "        if int(n%2) == 0:\n",
    "            if n >= 2 and n <= 5:\n",
    "                print(\"Not Weird\")\n",
    "            if n >= 6 and n <= 20:\n",
    "                print(\"Weird\")\n",
    "            if n > 20:\n",
    "                print(\"Not Weird\")\n"
   ]
  },
  {
   "cell_type": "markdown",
   "id": "55ef003f",
   "metadata": {},
   "source": [
    "##### Introduction - Arithmetic Operators"
   ]
  },
  {
   "cell_type": "code",
   "execution_count": null,
   "id": "249a7b9a",
   "metadata": {},
   "outputs": [],
   "source": [
    "if __name__ == '__main__':\n",
    "    a = int(input())\n",
    "    b = int(input())\n",
    "    som = a+b\n",
    "    dif = a-b\n",
    "    prod = a*b\n",
    "    print(som)\n",
    "    print(dif)\n",
    "    print(prod)"
   ]
  },
  {
   "cell_type": "markdown",
   "id": "537d57cd",
   "metadata": {},
   "source": [
    "##### Introduction - Python: Division"
   ]
  },
  {
   "cell_type": "code",
   "execution_count": null,
   "id": "bb927527",
   "metadata": {},
   "outputs": [],
   "source": [
    "if __name__ == '__main__':\n",
    "    a = int(input())\n",
    "    b = int(input())\n",
    "    indi = a // b\n",
    "    fldi = a / b\n",
    "    print(indi)\n",
    "    print(fldi)"
   ]
  },
  {
   "cell_type": "markdown",
   "id": "111c6629",
   "metadata": {},
   "source": [
    "##### Introduction - Loops"
   ]
  },
  {
   "cell_type": "code",
   "execution_count": null,
   "id": "beedfdf1",
   "metadata": {},
   "outputs": [],
   "source": [
    "if __name__ == '__main__':\n",
    "    n = int(input())\n",
    "    for i in range(0,n):\n",
    "        print(i**2)"
   ]
  },
  {
   "cell_type": "markdown",
   "id": "d223de3b",
   "metadata": {},
   "source": [
    "##### Introduction - Write a function"
   ]
  },
  {
   "cell_type": "code",
   "execution_count": null,
   "id": "4f135763",
   "metadata": {},
   "outputs": [],
   "source": [
    "def is_leap(year):\n",
    "    leap = False\n",
    "    \n",
    "    # Write your logic here\n",
    "    \n",
    "    if year%4==0:\n",
    "        leap = True\n",
    "        if year%100==0:\n",
    "            leap = False\n",
    "            if year%400==0:\n",
    "                leap = True   \n",
    "    \n",
    "    return leap\n",
    "\n"
   ]
  },
  {
   "cell_type": "markdown",
   "id": "9c637803",
   "metadata": {},
   "source": [
    "##### Introduction - Print Function"
   ]
  },
  {
   "cell_type": "code",
   "execution_count": null,
   "id": "d5520599",
   "metadata": {},
   "outputs": [],
   "source": [
    "if __name__ == '__main__':\n",
    "    n = int(input())\n",
    "    st = ''\n",
    "    for i in range(1,n+1):\n",
    "        st = st + str(i)\n",
    "    print(st)"
   ]
  },
  {
   "cell_type": "markdown",
   "id": "85c62ab3",
   "metadata": {},
   "source": [
    "##### Data Types - List Comprehensions\n",
    "\n"
   ]
  },
  {
   "cell_type": "code",
   "execution_count": null,
   "id": "6bca8c59",
   "metadata": {},
   "outputs": [],
   "source": [
    "if __name__ == '__main__':\n",
    "    x = int(input())\n",
    "    y = int(input())\n",
    "    z = int(input())\n",
    "    n = int(input())\n",
    "    \n",
    "    permut = [[i,j,k] for i in range(0,x+1) for j in range(0,y+1) for k in range(0,z+1) if i + j + k != n]\n",
    "    \n",
    "    print(permut)\n"
   ]
  },
  {
   "cell_type": "markdown",
   "id": "517e6b03",
   "metadata": {},
   "source": [
    "##### Data Types - Find the Runner-Up Score!"
   ]
  },
  {
   "cell_type": "code",
   "execution_count": null,
   "id": "dd8e1644",
   "metadata": {},
   "outputs": [],
   "source": [
    "if __name__ == '__main__':\n",
    "    n = int(input())\n",
    "    arr = map(int, input().split())\n",
    "    final = sorted(set(arr))\n",
    "    print(final[-2])\n"
   ]
  },
  {
   "cell_type": "markdown",
   "id": "f4767e85",
   "metadata": {},
   "source": [
    "##### Data Types - Nested Lists"
   ]
  },
  {
   "cell_type": "code",
   "execution_count": null,
   "id": "a395fa56",
   "metadata": {},
   "outputs": [],
   "source": [
    "if __name__ == '__main__':\n",
    "    l = list()\n",
    "    m = list()\n",
    "    for _ in range(int(input())):\n",
    "        name = input()\n",
    "        score = float(input())\n",
    "        l.append([name, score])\n",
    "    s = sorted(list(set([j[1] for j in l])))\n",
    "    penultimo = s[1]\n",
    "    \n",
    "    for i in l:\n",
    "        if penultimo == i[1]:\n",
    "            m.append(i[0])\n",
    "    for i in sorted(m):\n",
    "        print(i)"
   ]
  },
  {
   "cell_type": "markdown",
   "id": "d64c8c90",
   "metadata": {},
   "source": [
    "##### Data Types - Finding the percentage\n",
    "\n"
   ]
  },
  {
   "cell_type": "code",
   "execution_count": null,
   "id": "d3a73fe3",
   "metadata": {},
   "outputs": [],
   "source": [
    "if __name__ == '__main__':\n",
    "    n = int(input())\n",
    "    student_marks = {}\n",
    "    for _ in range(n):\n",
    "        name, *line = input().split()\n",
    "        scores = list(map(float, line))\n",
    "        student_marks[name] = scores\n",
    "\n",
    "    query_name = input()\n",
    "    count = 0\n",
    "    for k,v in student_marks.items():\n",
    "        if k == query_name:\n",
    "            for i in v:\n",
    "                count += i\n",
    "    d = format(count/3, \".2f\")\n",
    "    print(d)\n"
   ]
  },
  {
   "cell_type": "markdown",
   "id": "b2a8361b",
   "metadata": {},
   "source": [
    "##### Data Types - Lists\n",
    "\n"
   ]
  },
  {
   "cell_type": "code",
   "execution_count": null,
   "id": "5cfcba2b",
   "metadata": {},
   "outputs": [],
   "source": [
    "if __name__ == '__main__':\n",
    "    N = int(input())\n",
    "    stringa=[]\n",
    "    for i in range(N):\n",
    "        s= list(input().split())\n",
    "        if \"insert\" in s:\n",
    "            stringa.insert(int(s[1]), int(s[2]))\n",
    "        if \"print\" in s:\n",
    "            print(stringa)\n",
    "        if \"remove\" in s:\n",
    "            stringa.remove(int(s[1]))\n",
    "        if \"append\" in s:\n",
    "            stringa.append(int(s[1]))\n",
    "        if \"sort\" in s:\n",
    "            stringa.sort()\n",
    "        if \"pop\" in s:\n",
    "            stringa.pop()\n",
    "        if \"reverse\" in s:\n",
    "            stringa.reverse()\n"
   ]
  },
  {
   "cell_type": "markdown",
   "id": "0d2bce52",
   "metadata": {},
   "source": [
    "##### Data Types - Tuples\n",
    "\n"
   ]
  },
  {
   "cell_type": "code",
   "execution_count": null,
   "id": "bbbc61e3",
   "metadata": {},
   "outputs": [],
   "source": [
    "if __name__ == '__main__':\n",
    "    n = int(input())\n",
    "    integer_list = tuple(map(int, input().split()))\n",
    "    print(hash(integer_list))\n"
   ]
  },
  {
   "cell_type": "markdown",
   "id": "ec2bf006",
   "metadata": {},
   "source": [
    "##### Strings - sWAP cASE"
   ]
  },
  {
   "cell_type": "code",
   "execution_count": null,
   "id": "17b46fc3",
   "metadata": {},
   "outputs": [],
   "source": [
    "def swap_case(s):\n",
    "    s = list(s)\n",
    "    lista = list()\n",
    "    for i in range(len(s)):\n",
    "        if s[i].isupper():\n",
    "            t = s[i].lower()\n",
    "            lista.append(t)\n",
    "        elif s[i].islower():\n",
    "            t = s[i].upper()\n",
    "            lista.append(t)\n",
    "        else:\n",
    "            lista.append(s[i])\n",
    "    s = \"\".join(lista)\n",
    "    \n",
    "    return s"
   ]
  },
  {
   "cell_type": "markdown",
   "id": "55f3bf34",
   "metadata": {},
   "source": [
    "##### Strings - String Split and Join\n",
    "\n"
   ]
  },
  {
   "cell_type": "code",
   "execution_count": null,
   "id": "0b3ccb71",
   "metadata": {},
   "outputs": [],
   "source": [
    "def split_and_join(line):\n",
    "    # write your code here\n",
    "    line = line.split(\" \")\n",
    "    line = \"-\".join(line)\n",
    "    return line\n"
   ]
  },
  {
   "cell_type": "markdown",
   "id": "2bca09f3",
   "metadata": {},
   "source": [
    "##### Strings - What's Your Name?\n",
    "\n"
   ]
  },
  {
   "cell_type": "code",
   "execution_count": null,
   "id": "ca69927c",
   "metadata": {},
   "outputs": [],
   "source": [
    "def print_full_name(first, last):\n",
    "    # Write your code here\n",
    "    return print(\"Hello \", first, \" \", last, \"! \", \"You just delved into python.\", sep = \"\")"
   ]
  },
  {
   "cell_type": "markdown",
   "id": "30bb6d3f",
   "metadata": {},
   "source": [
    "##### Strings - Mutations\n",
    "\n"
   ]
  },
  {
   "cell_type": "code",
   "execution_count": null,
   "id": "a67ab00c",
   "metadata": {},
   "outputs": [],
   "source": [
    "def mutate_string(string, position, character):\n",
    "    l = list(string)\n",
    "    l[position] = character\n",
    "    string = \"\".join(l)\n",
    "    return string"
   ]
  },
  {
   "cell_type": "markdown",
   "id": "32bc1a17",
   "metadata": {},
   "source": [
    "###### Strings - Find a string"
   ]
  },
  {
   "cell_type": "code",
   "execution_count": null,
   "id": "de6655e4",
   "metadata": {},
   "outputs": [],
   "source": [
    "def count_substring(string, sub_string):\n",
    "    l = len(sub_string)\n",
    "    count = 0\n",
    "    for i in range(len(string)):\n",
    "        if string[i] == sub_string[0] and i+l <= len(string):\n",
    "            flag = True\n",
    "            for j in range(0,l):\n",
    "                if string[i+j] != sub_string[j]:\n",
    "                    flag = False\n",
    "            if flag == True:\n",
    "                count = count + 1            \n",
    "    \n",
    "    return count"
   ]
  },
  {
   "cell_type": "markdown",
   "id": "610ae606",
   "metadata": {},
   "source": [
    "##### Strings - String Validators"
   ]
  },
  {
   "cell_type": "code",
   "execution_count": null,
   "id": "70ca83a4",
   "metadata": {},
   "outputs": [],
   "source": [
    "if __name__ == '__main__':\n",
    "    s = input()\n",
    "    print(any(i.isalnum() for i in s))\n",
    "    print(any(i.isalpha() for i in s))\n",
    "    print(any(i.isdigit() for i in s))\n",
    "    print(any(i.islower() for i in s))\n",
    "    print(any(i.isupper() for i in s))\n",
    "  "
   ]
  },
  {
   "cell_type": "markdown",
   "id": "ee60acc1",
   "metadata": {},
   "source": [
    "###### Strings - Text Alignment"
   ]
  },
  {
   "cell_type": "code",
   "execution_count": null,
   "id": "f9d8b6a5",
   "metadata": {},
   "outputs": [],
   "source": [
    "#Replace all ______ with rjust, ljust or center. \n",
    "\n",
    "thickness = int(input()) #This must be an odd number\n",
    "c = 'H'\n",
    "\n",
    "#Top Cone\n",
    "for i in range(thickness):\n",
    "    print((c*i).rjust(thickness-1)+c+(c*i).ljust(thickness-1))\n",
    "\n",
    "#Top Pillars\n",
    "for i in range(thickness+1):\n",
    "    print((c*thickness).center(thickness*2)+(c*thickness).center(thickness*6))\n",
    "\n",
    "#Middle Belt\n",
    "for i in range((thickness+1)//2):\n",
    "    print((c*thickness*5).center(thickness*6))    \n",
    "\n",
    "#Bottom Pillars\n",
    "for i in range(thickness+1):\n",
    "    print((c*thickness).center(thickness*2)+(c*thickness).center(thickness*6))    \n",
    "\n",
    "#Bottom Cone\n",
    "for i in range(thickness):\n",
    "    print(((c*(thickness-i-1)).rjust(thickness)+c+(c*(thickness-i-1)).ljust(thickness)).rjust(thickness*6))\n"
   ]
  },
  {
   "cell_type": "markdown",
   "id": "f3f097d6",
   "metadata": {},
   "source": [
    "##### Strings - Text Wrap"
   ]
  },
  {
   "cell_type": "code",
   "execution_count": null,
   "id": "5e420381",
   "metadata": {},
   "outputs": [],
   "source": [
    "def wrap(string, max_width):\n",
    "    a = textwrap.fill(string, max_width)\n",
    "    return a"
   ]
  },
  {
   "cell_type": "markdown",
   "id": "b3ee5195",
   "metadata": {},
   "source": [
    "##### Strings - Designer Door Mat\n",
    "\n"
   ]
  },
  {
   "cell_type": "code",
   "execution_count": null,
   "id": "9ce18760",
   "metadata": {},
   "outputs": [],
   "source": [
    "import math\n",
    "N, M = map(int, input().split())\n",
    "for i in range(0, math.floor(N/2)):\n",
    "    s = \".|.\"*i\n",
    "    print(s.rjust(math.floor((M-2)/2),\"-\") + \".|.\" + s.ljust(math.floor((M-2)/2), \"-\"))\n",
    "\n",
    "print(\"WELCOME\".center(math.floor(M), \"-\" ))\n",
    "\n",
    "for i in reversed(range(0, math.floor(N/2))):\n",
    "    s = \".|.\"*i\n",
    "    print(s.rjust(math.floor(((M-2)/2)), \"-\") + \".|.\" + s.ljust(math.floor((M-2)/2), \"-\"))\n"
   ]
  },
  {
   "cell_type": "markdown",
   "id": "a68ee332",
   "metadata": {},
   "source": [
    "##### Strings - String Formatting\n",
    "\n"
   ]
  },
  {
   "cell_type": "code",
   "execution_count": null,
   "id": "c5f01b9b",
   "metadata": {},
   "outputs": [],
   "source": [
    "def print_formatted(number):\n",
    "    # your code goes here\n",
    "    numeri = len(\"{0:b}\".format(number))\n",
    "    for i in range(1, number + 1):\n",
    "        print(\"{0:{n}d} {0:{n}o} {0:{n}X} {0:{n}b}\".format(i, n = numeri))"
   ]
  },
  {
   "cell_type": "markdown",
   "id": "89e8f226",
   "metadata": {},
   "source": [
    "##### Strings - Alphabet Rangoli\n",
    "\n"
   ]
  },
  {
   "cell_type": "code",
   "execution_count": null,
   "id": "07038c71",
   "metadata": {},
   "outputs": [],
   "source": [
    "def print_rangoli(size):\n",
    "    # your code goes here\n",
    "    lar = size*2-1\n",
    "    import string\n",
    "    lista = list()\n",
    "    lettere = string.ascii_lowercase\n",
    "    \n",
    "    for i in range(n):\n",
    "        riga = \"-\".join(lettere[i:n])\n",
    "        lista.append((riga[::-1]+riga[1:]).center(4*n-3, \"-\"))\n",
    "    print(\"\\n\".join(lista[:0:-1]+lista))"
   ]
  },
  {
   "cell_type": "markdown",
   "id": "4a83c954",
   "metadata": {},
   "source": [
    "##### Strings - Capitalize!\n",
    "\n"
   ]
  },
  {
   "cell_type": "code",
   "execution_count": null,
   "id": "7053ff7b",
   "metadata": {},
   "outputs": [],
   "source": [
    "def solve(s):\n",
    "    maiuscolo = ' '.join([i.capitalize() for i in s.split(' ')])\n",
    "    return maiuscolo\n",
    "\n"
   ]
  },
  {
   "cell_type": "markdown",
   "id": "9543609c",
   "metadata": {},
   "source": [
    "##### Set - Introduction to Sets\n",
    "\n"
   ]
  },
  {
   "cell_type": "code",
   "execution_count": null,
   "id": "28f1c964",
   "metadata": {},
   "outputs": [],
   "source": [
    "def average(array):\n",
    "    # your code goes here\n",
    "    arr_set = set(array)\n",
    "    somma = sum(arr_set)\n",
    "    totale = len(arr_set)\n",
    "    media = somma/totale\n",
    "    return media"
   ]
  },
  {
   "cell_type": "markdown",
   "id": "bf29440d",
   "metadata": {},
   "source": [
    "##### Set - No Idea!\n",
    "\n"
   ]
  },
  {
   "cell_type": "code",
   "execution_count": null,
   "id": "2faec586",
   "metadata": {},
   "outputs": [],
   "source": [
    "n,m = map(int, input().split())\n",
    "n = list(map(int, input().split()))\n",
    "\n",
    "A = set(map(int,input().split()))\n",
    "B = set(map(int,input().split()))\n",
    "count = 0\n",
    "for i in range(len(n)):\n",
    "    if n[i] in A:\n",
    "        count = count + 1\n",
    "    if n[i] in B:\n",
    "        count = count - 1 \n",
    "print(count)"
   ]
  },
  {
   "cell_type": "markdown",
   "id": "9b8f2667",
   "metadata": {},
   "source": [
    "##### Set - Symmetric Difference"
   ]
  },
  {
   "cell_type": "code",
   "execution_count": null,
   "id": "55414ced",
   "metadata": {},
   "outputs": [],
   "source": [
    "if __name__ == \"__main__\":\n",
    "    M = int(input().strip())\n",
    "    first = set(map(int,input().strip().split(\" \")))\n",
    "    N = int(input().strip())\n",
    "    second = set(map(int,input().strip().split(\" \")))\n",
    "    \n",
    "    first1 = first.difference(second)\n",
    "    second1 = second.difference(first)\n",
    "    \n",
    "    final = first1.union(second1)\n",
    "    \n",
    "    lista = list(final)\n",
    "    lista = sorted(lista)\n",
    "    for i in range(len(lista)):\n",
    "        print(lista[i])"
   ]
  },
  {
   "cell_type": "markdown",
   "id": "7ba455db",
   "metadata": {},
   "source": [
    "##### Set - Set .add()\n",
    "\n"
   ]
  },
  {
   "cell_type": "code",
   "execution_count": null,
   "id": "f672848b",
   "metadata": {},
   "outputs": [],
   "source": [
    "if __name__ == '__main__':\n",
    "    N = int(input())\n",
    "    country = set()\n",
    "    for i in range(N):\n",
    "        country.add(input())\n",
    "    print(len(country))"
   ]
  },
  {
   "cell_type": "markdown",
   "id": "cb2c1951",
   "metadata": {},
   "source": [
    "##### Set - Set .discard(), .remove() & .pop()\n",
    "\n"
   ]
  },
  {
   "cell_type": "code",
   "execution_count": null,
   "id": "7ca2ca8d",
   "metadata": {},
   "outputs": [],
   "source": [
    "n = int(input())\n",
    "s = set(map(int, input().split()))\n",
    "for i in range(int(input())):\n",
    "    commands = []\n",
    "    commands = input().split()\n",
    "    if commands[0] == \"pop\":\n",
    "        s.pop()\n",
    "    if commands[0] == \"remove\":\n",
    "        s.remove(int(commands[1]))\n",
    "    if commands[0] == \"discard\":\n",
    "        s.discard(int(commands[1]))\n",
    "        \n",
    "print(sum(s))"
   ]
  },
  {
   "cell_type": "markdown",
   "id": "352b9094",
   "metadata": {},
   "source": [
    "##### Set - Set .union() Operation"
   ]
  },
  {
   "cell_type": "code",
   "execution_count": null,
   "id": "032ca493",
   "metadata": {},
   "outputs": [],
   "source": [
    "engn = int(input())\n",
    "engstud = set(input().split())\n",
    "frenn = int(input())\n",
    "frenstud = set(input().split())\n",
    "tot = engstud.union(frenstud)\n",
    "print(len(tot))\n"
   ]
  },
  {
   "cell_type": "markdown",
   "id": "e4376380",
   "metadata": {},
   "source": [
    "##### Set - Set .intersection() Operation\n",
    "\n"
   ]
  },
  {
   "cell_type": "code",
   "execution_count": null,
   "id": "4037c109",
   "metadata": {},
   "outputs": [],
   "source": [
    "engn = int(input())\n",
    "engstud = set(input().split())\n",
    "frenn = int(input())\n",
    "frenstud = set(input().split())\n",
    "\n",
    "tot = engstud.intersection(frenstud)\n",
    "print(len(tot))\n"
   ]
  },
  {
   "cell_type": "markdown",
   "id": "b127d8f7",
   "metadata": {},
   "source": [
    "##### Set - Set .difference() Operation"
   ]
  },
  {
   "cell_type": "code",
   "execution_count": null,
   "id": "6b3479dc",
   "metadata": {},
   "outputs": [],
   "source": [
    "engn = int(input())\n",
    "engstud = set(input().split())\n",
    "frenn = int(input())\n",
    "frenstud = set(input().split())\n",
    "\n",
    "tot_eng_only = engstud.difference(frenstud)\n",
    "print(len(tot_eng_only))\n"
   ]
  },
  {
   "cell_type": "markdown",
   "id": "b2da0192",
   "metadata": {},
   "source": [
    "##### Set - Set .symmetric_difference() Operation"
   ]
  },
  {
   "cell_type": "code",
   "execution_count": null,
   "id": "68e00336",
   "metadata": {},
   "outputs": [],
   "source": [
    "engn = int(input())\n",
    "engstud = set(input().split())\n",
    "frenn = int(input())\n",
    "frenstud = set(input().split())\n",
    "\n",
    "eng_only = engstud.difference(frenstud)\n",
    "fren_only = frenstud.difference(engstud)\n",
    "tot_only = eng_only.union(fren_only)\n",
    "print(len(tot_only))\n"
   ]
  },
  {
   "cell_type": "markdown",
   "id": "82604cfd",
   "metadata": {},
   "source": [
    "##### Set - Set Mutations"
   ]
  },
  {
   "cell_type": "code",
   "execution_count": null,
   "id": "85573500",
   "metadata": {},
   "outputs": [],
   "source": [
    "An = int(input())\n",
    "A = set(input().split())\n",
    "Nset = int(input())\n",
    "for i in range(Nset):\n",
    "    commands = []\n",
    "    commands = input().split()\n",
    "    nset = set(input().split())\n",
    "    if commands[0] == \"intersection_update\":\n",
    "        A.intersection_update(nset)\n",
    "    if commands[0] == \"update\":\n",
    "        A.update(nset)\n",
    "    if commands[0] == \"symmetric_difference_update\":\n",
    "        A.symmetric_difference_update(nset)\n",
    "    if commands[0] == \"difference_update\":\n",
    "        A.difference_update(nset)\n",
    "A = list(map(int,A))\n",
    "print(sum(A))"
   ]
  },
  {
   "cell_type": "markdown",
   "id": "7675bcaf",
   "metadata": {},
   "source": [
    "##### Set - The Captain's Room\n",
    "\n"
   ]
  },
  {
   "cell_type": "code",
   "execution_count": null,
   "id": "d0e48b99",
   "metadata": {},
   "outputs": [],
   "source": [
    "K = int(input())\n",
    "room = list(map(int, input().split()))\n",
    "roomset = set(room)\n",
    "\n",
    "cap = (sum(roomset)*K - sum(room))/(K-1)\n",
    "print(int(cap))\n",
    "        \n"
   ]
  },
  {
   "cell_type": "markdown",
   "id": "06f70eb9",
   "metadata": {},
   "source": [
    "##### Set - Check Subset\n",
    "\n"
   ]
  },
  {
   "cell_type": "code",
   "execution_count": null,
   "id": "df298078",
   "metadata": {},
   "outputs": [],
   "source": [
    "T = int(input())\n",
    "\n",
    "for i in range(T):\n",
    "    nA = int(input())\n",
    "    A = set(input().split())\n",
    "    nB = int(input())\n",
    "    B = set(input().split())\n",
    "    if A.difference(B) == set():\n",
    "        print(True)\n",
    "    else:\n",
    "        print(False)\n"
   ]
  },
  {
   "cell_type": "markdown",
   "id": "142073d9",
   "metadata": {},
   "source": [
    "##### Set - Check Strict Superset\n",
    "\n"
   ]
  },
  {
   "cell_type": "code",
   "execution_count": null,
   "id": "30cd1b77",
   "metadata": {},
   "outputs": [],
   "source": [
    "A = set(map(int,input().split()))\n",
    "n = int(input())\n",
    "newset = set()\n",
    "for i in range(n):\n",
    "    otherset = set(map(int,input().split()))\n",
    "    newset.update(otherset)\n",
    "print(A.issuperset(newset))\n"
   ]
  },
  {
   "cell_type": "markdown",
   "id": "2b593872",
   "metadata": {},
   "source": [
    "##### Collections - collections.Counter()\n",
    "\n"
   ]
  },
  {
   "cell_type": "code",
   "execution_count": null,
   "id": "1a481418",
   "metadata": {},
   "outputs": [],
   "source": [
    "X = int(input())\n",
    "scarpe = Counter(map(int, input().split()))\n",
    "N = int(input())\n",
    "cassa = 0\n",
    "\n",
    "for i in range(N):\n",
    "    numero, valore = map(int,input().split())\n",
    "    if scarpe[numero]:\n",
    "        cassa = cassa + valore\n",
    "        scarpe[numero] = scarpe[numero] - 1\n",
    "print(cassa)"
   ]
  },
  {
   "cell_type": "markdown",
   "id": "a3871c59",
   "metadata": {},
   "source": [
    "##### Collections - DefaultDict Tutorial\n",
    "\n"
   ]
  },
  {
   "cell_type": "code",
   "execution_count": null,
   "id": "d54f20fb",
   "metadata": {},
   "outputs": [],
   "source": [
    "from collections import defaultdict\n",
    "\n",
    "d = defaultdict(list)\n",
    "n, m = list(map(int,input().split()))\n",
    "for i in range(1,n+1):\n",
    "    d[input()].append(i)\n",
    "for j in range(m):\n",
    "    s = input()\n",
    "    if s in d:\n",
    "        print(*d[s])\n",
    "    else:\n",
    "        print(-1)\n"
   ]
  },
  {
   "cell_type": "markdown",
   "id": "0e1692bf",
   "metadata": {},
   "source": [
    "##### Collections - Collections.namedtuple()\n",
    "\n"
   ]
  },
  {
   "cell_type": "code",
   "execution_count": null,
   "id": "5ecee717",
   "metadata": {},
   "outputs": [],
   "source": [
    "from collections import namedtuple\n",
    "N = int(input())\n",
    "argomenti = \",\".join(input().split())\n",
    "elenco = namedtuple(\"elenco\",argomenti)  \n",
    "\n",
    "somma = 0\n",
    "for i in range(N):\n",
    "    ID, MARKS, NAME, CLASS = input().split()\n",
    "    elenco1  elenco(ID, MARKS, NAME, CLASS)\n",
    "    somma = somma + int(elenco1.MARKS)\n",
    "    \n",
    "media = somma/N\n",
    "print(media)"
   ]
  },
  {
   "cell_type": "markdown",
   "id": "b95c80af",
   "metadata": {},
   "source": [
    "##### Collections - Collections.OrderedDict()\n",
    "\n"
   ]
  },
  {
   "cell_type": "code",
   "execution_count": null,
   "id": "e2580568",
   "metadata": {},
   "outputs": [],
   "source": [
    "from collections import OrderedDict\n",
    "\n",
    "x = int(input())\n",
    "ordered_dict = OrderedDict()\n",
    "for i in range(x):\n",
    "    lista = input().split()\n",
    "    alimento = \" \".join(lista[:-1])\n",
    "    valore = int(lista[-1])\n",
    "    if alimento in ordered_dict:\n",
    "        ordered_dict[alimento] += valore\n",
    "    else:\n",
    "        ordered_dict[alimento] = valore\n",
    "        \n",
    "for x in ordered_dict.keys():\n",
    "    print(x, ordered_dict[x])"
   ]
  },
  {
   "cell_type": "markdown",
   "id": "78a37b50",
   "metadata": {},
   "source": [
    "##### Collections - Word Order\n",
    "\n"
   ]
  },
  {
   "cell_type": "code",
   "execution_count": null,
   "id": "bd39437e",
   "metadata": {},
   "outputs": [],
   "source": [
    "n = int(input())\n",
    "dizionario = {}\n",
    "lista = []\n",
    "for i in range(n):\n",
    "    word = input()\n",
    "    lista.append(word)\n",
    "    if word in dizionario:\n",
    "        dizionario[word] = dizionario[word] + 1\n",
    "    else:\n",
    "        dizionario[word] = 1\n",
    "print(len(dizionario))\n",
    "for word in dizionario:\n",
    "    print(dizionario[word], end = \" \")\n"
   ]
  },
  {
   "cell_type": "markdown",
   "id": "3acfc409",
   "metadata": {},
   "source": [
    "##### Collections - Collections.deque()\n",
    "\n"
   ]
  },
  {
   "cell_type": "code",
   "execution_count": null,
   "id": "5eaaa887",
   "metadata": {},
   "outputs": [],
   "source": [
    "from collections import deque\n",
    "\n",
    "d = deque()\n",
    "N = int(input())\n",
    "for i in range(N):\n",
    "    command = input().split()\n",
    "    if command[0] == \"append\":\n",
    "        d.append(command[1])\n",
    "    if command[0] == \"appendleft\":\n",
    "        d.appendleft(command[1])\n",
    "    if command[0] == \"pop\":\n",
    "        d.pop()\n",
    "    if command[0] == \"popleft\":\n",
    "        d.popleft()      \n",
    "for i in range(len(d)):\n",
    "    print(d[i], end = \" \")"
   ]
  },
  {
   "cell_type": "markdown",
   "id": "a2024405",
   "metadata": {},
   "source": [
    "##### Collections - Company Logo\n",
    "\n"
   ]
  },
  {
   "cell_type": "code",
   "execution_count": null,
   "id": "192c9d89",
   "metadata": {},
   "outputs": [],
   "source": [
    "#!/bin/python3\n",
    "\n",
    "import math\n",
    "import os\n",
    "import random\n",
    "import re\n",
    "import sys\n",
    "from collections import defaultdict\n",
    "\n",
    "\n",
    "if __name__ == '__main__':\n",
    "    s = input()\n",
    "    quantita = list(s)\n",
    "    dizionario =defaultdict(dict)\n",
    "    for j in quantita:\n",
    "        if j in dizionario:\n",
    "            dizionario[j]+=1\n",
    "        else:\n",
    "            dizionario[j] = 1\n",
    "    dizionario=sorted(dizionario.items(), key=lambda x: (-x[1],x[0]))\n",
    "    \n",
    "    result=''\n",
    "    for k in range(3):\n",
    "        result+=str(dizionario[k][0])+' '+str(dizionario[k][1])\n",
    "        print(result)\n",
    "        result=''\n"
   ]
  },
  {
   "cell_type": "markdown",
   "id": "fbae7c7b",
   "metadata": {},
   "source": [
    "##### Collections - Piling Up!\n",
    "\n"
   ]
  },
  {
   "cell_type": "code",
   "execution_count": null,
   "id": "dfdca47b",
   "metadata": {},
   "outputs": [],
   "source": [
    "from collections import deque\n",
    "T = int(input())\n",
    "for i in range(T):\n",
    "    n = int(input())\n",
    "    cubes = deque(map(int, input().split()))\n",
    "    for j in range(n-1):\n",
    "        if cubes[0] >= cubes[1] and cubes[0] >= cubes[-1]:\n",
    "            cubes.popleft()\n",
    "        elif cubes[-1] >= cubes[-2] and cubes[-1] >= cubes[0]:\n",
    "            cubes.pop()\n",
    "    if len(cubes) < 2:\n",
    "        print(\"Yes\")\n",
    "    else:\n",
    "        print(\"No\")"
   ]
  },
  {
   "cell_type": "markdown",
   "id": "96d52ccf",
   "metadata": {},
   "source": [
    "##### Data and Time - Calendar Module\n",
    "\n"
   ]
  },
  {
   "cell_type": "code",
   "execution_count": null,
   "id": "164c7f76",
   "metadata": {},
   "outputs": [],
   "source": [
    "\n",
    "import calendar\n",
    "\n",
    "mese, giorno, anno = list(map(int,input().split()))\n",
    "data = calendar.weekday(anno, mese, giorno)\n",
    "if data == 0:\n",
    "    print(\"MONDAY\")\n",
    "if data == 1:\n",
    "    print(\"TUESDAY\")\n",
    "if data == 2:\n",
    "    print(\"WEDNESDAY\")\n",
    "if data == 3:\n",
    "    print(\"THURSDAY\")\n",
    "if data == 4:\n",
    "    print(\"FRIDAY\")\n",
    "if data == 5:\n",
    "    print(\"SATURDAY\")\n",
    "if data == 6:\n",
    "    print(\"SUNDAY\")"
   ]
  },
  {
   "cell_type": "markdown",
   "id": "eae5ead3",
   "metadata": {},
   "source": [
    "##### Data and Time - Time Delta\n",
    "\n"
   ]
  },
  {
   "cell_type": "code",
   "execution_count": null,
   "id": "b7351696",
   "metadata": {},
   "outputs": [],
   "source": [
    "#!/bin/python3\n",
    "\n",
    "import math\n",
    "import os\n",
    "import random\n",
    "import re\n",
    "import sys\n",
    "\n",
    "# Complete the time_delta function below.\n",
    "from datetime import datetime \n",
    "def time_delta(t1, t2):\n",
    "    formato = \"%a %d %b %Y %H:%M:%S %z\"\n",
    "    t1_new = datetime.strptime(t1, formato)\n",
    "    t2_new = datetime.strptime(t2, formato)\n",
    "    return str(abs(int((t1_new - t2_new).total_seconds())))\n",
    "if __name__ == '__main__':\n",
    "    ptr = open(os.environ['OUTPUT_PATH'], 'w')\n",
    "    t = int(input())\n",
    "    \n",
    "    for t_itr in range(t):\n",
    "        t1 = input()\n",
    "        t2 = input()\n",
    "        \n",
    "        delta = time_delta(t1, t2)\n",
    "        ptr.write(delta + '\\n')\n",
    "ptr.close()\n"
   ]
  },
  {
   "cell_type": "markdown",
   "id": "b9b3ff5b",
   "metadata": {},
   "source": [
    "##### Exceptions\n",
    "\n"
   ]
  },
  {
   "cell_type": "code",
   "execution_count": null,
   "id": "ac8ce177",
   "metadata": {},
   "outputs": [],
   "source": [
    "T = int(input())\n",
    "for i in range(T):\n",
    "    try:\n",
    "        a, b = input().split()\n",
    "        print(int(a)//int(b))\n",
    "    except ZeroDivisionError as e:\n",
    "        print (\"Error Code:\", e)\n",
    "    except ValueError as r:\n",
    "        print(\"Error Code:\", r)"
   ]
  },
  {
   "cell_type": "markdown",
   "id": "282ef716",
   "metadata": {},
   "source": [
    "##### Built ins - Zipped!\n",
    "\n"
   ]
  },
  {
   "cell_type": "code",
   "execution_count": null,
   "id": "788c11da",
   "metadata": {},
   "outputs": [],
   "source": [
    "N,X = map(int, input().split())\n",
    "materie = []\n",
    "for i in range(X):\n",
    "    materie.append(list(map(float,input().split())))\n",
    "\n",
    "for i in zip(*materie):\n",
    "    print(sum(i)/X)"
   ]
  },
  {
   "cell_type": "markdown",
   "id": "950295b2",
   "metadata": {},
   "source": [
    "##### Built ins - Athlete Sort\n",
    "\n"
   ]
  },
  {
   "cell_type": "code",
   "execution_count": null,
   "id": "0f3ef8da",
   "metadata": {},
   "outputs": [],
   "source": [
    "#!/bin/python3\n",
    "\n",
    "import math\n",
    "import os\n",
    "import random\n",
    "import re\n",
    "import sys\n",
    "\n",
    "import operator\n",
    "\n",
    "if __name__ == '__main__':\n",
    "    nm = input().split()\n",
    "    n = int(nm[0])\n",
    "    m = int(nm[1])\n",
    "    arr = []\n",
    "    for _ in range(n):\n",
    "        arr.append(list(map(int, input().rstrip().split())))\n",
    "    k = int(input())\n",
    "    ordinati = sorted(arr, key = operator.itemgetter(k))\n",
    "    for i in range(len(ordinati)):\n",
    "        print(*ordinati[i])\n",
    "    "
   ]
  },
  {
   "cell_type": "markdown",
   "id": "4df1432f",
   "metadata": {},
   "source": [
    "##### Built ins - ginortS\n",
    "\n"
   ]
  },
  {
   "cell_type": "code",
   "execution_count": null,
   "id": "0b9a6c5b",
   "metadata": {},
   "outputs": [],
   "source": [
    "S = input()\n",
    "lower = \"\"\n",
    "upper = \"\"\n",
    "odd = \"\"\n",
    "even = \"\"\n",
    "lista = list(S)\n",
    "for i in range(len(lista)):\n",
    "    if lista[i].islower():\n",
    "        lower = lower + \"\".join(lista[i])\n",
    "    if lista[i].isupper():\n",
    "        upper = upper + \"\".join(lista[i])\n",
    "    if lista[i].isnumeric():\n",
    "        if int(lista[i])%2 == 1:\n",
    "            odd = odd + \"\".join(lista[i])\n",
    "        if int(lista[i])%2 == 0:\n",
    "            even = even + \"\".join(lista[i])\n",
    "\n",
    "lower = sorted(lower)\n",
    "upper = sorted(upper)\n",
    "odd = sorted(odd)\n",
    "even = sorted(even)\n",
    "\n",
    "print(\"\".join(lower)+\"\".join(upper)+\"\".join(odd)+\"\".join(even))\n"
   ]
  },
  {
   "cell_type": "markdown",
   "id": "67420c60",
   "metadata": {},
   "source": [
    "##### Python Functionals - Map and Lambda Function\n",
    "\n"
   ]
  },
  {
   "cell_type": "code",
   "execution_count": null,
   "id": "a6c2029b",
   "metadata": {},
   "outputs": [],
   "source": [
    "cube = lambda x: x**3 # complete the lambda function \n",
    "\n",
    "def fibonacci(n):\n",
    "    # return a list of fibonacci numbers\n",
    "    a,b = 0, 1\n",
    "    lista = []\n",
    "    for i in range(n):\n",
    "        lista.append(a)\n",
    "        a, b = b, a+b\n",
    "    return lista"
   ]
  },
  {
   "cell_type": "markdown",
   "id": "3b3ea2b3",
   "metadata": {},
   "source": [
    "##### Regex - Detect Floating Point Number\n",
    "\n"
   ]
  },
  {
   "cell_type": "code",
   "execution_count": null,
   "id": "5838aab0",
   "metadata": {},
   "outputs": [],
   "source": [
    "import re\n",
    "T = int(input())\n",
    "controllo = r\"^[-+]?\\d*[.]\\d*$\"\n",
    "[print(bool(re.match(controllo, input()))) for i in range(T)]\n"
   ]
  },
  {
   "cell_type": "markdown",
   "id": "dac6a281",
   "metadata": {},
   "source": [
    "##### Regex - Re.split()\n",
    "\n"
   ]
  },
  {
   "cell_type": "code",
   "execution_count": null,
   "id": "0c063cd7",
   "metadata": {},
   "outputs": [],
   "source": [
    "regex_pattern = r\"[,.]\""
   ]
  },
  {
   "cell_type": "markdown",
   "id": "6ec08e72",
   "metadata": {},
   "source": [
    "##### Regex - Group(), Groups() & Groupdict()\n",
    "\n"
   ]
  },
  {
   "cell_type": "code",
   "execution_count": null,
   "id": "8769e036",
   "metadata": {},
   "outputs": [],
   "source": [
    "import re \n",
    "S=input()\n",
    "gruppo = re.findall(r\"([A-Za-z0-9])\\1+\",S) \n",
    "if gruppo:\n",
    "    print(gruppo[0]) \n",
    "else: \n",
    "    print(-1)\n",
    "    "
   ]
  },
  {
   "cell_type": "markdown",
   "id": "5f2393b8",
   "metadata": {},
   "source": [
    "##### Regex - Re.findall() & Re.finditer()\n",
    "\n"
   ]
  },
  {
   "cell_type": "code",
   "execution_count": null,
   "id": "c435d808",
   "metadata": {},
   "outputs": [],
   "source": [
    "import re\n",
    "S = input()\n",
    "trova = re.finditer(r\"(?<=[QWRTYPSDFGHJKLZXCVBNMqwrtypsdfghjklzxcvbnm])([AEIOUaeiou]{2,})(?=[QWRTYPSDFGHJKLZXCVBNMqwrtypsdfghjklzxcvbnm])\", S)\n",
    "\n",
    "gruppi = [i for i in map(lambda x: x.group(), trova)]\n",
    "print(*gruppi, sep = \"\\n\") if gruppi != [] else print(-1)\n"
   ]
  },
  {
   "cell_type": "markdown",
   "id": "320a734b",
   "metadata": {},
   "source": [
    "##### Regex - Re.start() & Re.end()"
   ]
  },
  {
   "cell_type": "code",
   "execution_count": null,
   "id": "c1f77c9a",
   "metadata": {},
   "outputs": [],
   "source": [
    "import re\n",
    "S, k = input(), input()\n",
    "if re.search(r\"\"+k+\"\", S):\n",
    "    for i in re.finditer(r\"(?=(\"+k+\"))\", S):\n",
    "        print(f\"({i.start(1)}, {i.end(1)-1})\")\n",
    "else:\n",
    "    print(\"(-1, -1)\")"
   ]
  },
  {
   "cell_type": "markdown",
   "id": "2174dad3",
   "metadata": {},
   "source": [
    "##### Regex - Validating Roman Numerals"
   ]
  },
  {
   "cell_type": "code",
   "execution_count": null,
   "id": "7df459b4",
   "metadata": {},
   "outputs": [],
   "source": [
    "regex_pattern = r\"(M{0,3})(C[DM]|D?C{0,3})(X[LC]|L?X{0,3})(I[VX]|V?I{0,3})$\" "
   ]
  },
  {
   "cell_type": "markdown",
   "id": "51f33224",
   "metadata": {},
   "source": [
    "##### Regex - Validating phone numbers\n",
    "\n",
    "\n",
    "\n"
   ]
  },
  {
   "cell_type": "code",
   "execution_count": null,
   "id": "aa80d0f8",
   "metadata": {},
   "outputs": [],
   "source": [
    "import re\n",
    "N = int(input())\n",
    "for i in range(N):\n",
    "    numero = input()\n",
    "    if re.search(r\"^[789][0123456789]{9}$\", numero):\n",
    "        print(\"YES\")\n",
    "    else:\n",
    "        print(\"NO\")\n"
   ]
  },
  {
   "cell_type": "markdown",
   "id": "f6b745b1",
   "metadata": {},
   "source": [
    "##### Regex - Validating and Parsing Email Addresses\n",
    "\n"
   ]
  },
  {
   "cell_type": "code",
   "execution_count": null,
   "id": "d48d3531",
   "metadata": {},
   "outputs": [],
   "source": [
    "import re\n",
    "n = int(input())\n",
    "for i in range(n):\n",
    "    i = input().split()\n",
    "    if re.search(r\"<[A-Za-z][A-Za-z0-9\\-\\.\\_]+\\@[A-Za-z]+\\.[A-Za-z]{1,3}>\",i[1]):\n",
    "        print(*i) "
   ]
  },
  {
   "cell_type": "markdown",
   "id": "833bd92b",
   "metadata": {},
   "source": [
    "##### Regex - Hex Color Code\n",
    "\n"
   ]
  },
  {
   "cell_type": "code",
   "execution_count": null,
   "id": "12252132",
   "metadata": {},
   "outputs": [],
   "source": [
    "import re\n",
    "N = int(input())\n",
    "for i in range(N):\n",
    "    color = input()\n",
    "    codice = re.compile(\"(?<!^)(#(?:[\\dA-Fa-f]{3,6}))\")\n",
    "    confronto = codice.findall(color)\n",
    "    if confronto:\n",
    "        print(*confronto, sep = \"\\n\")\n"
   ]
  },
  {
   "cell_type": "markdown",
   "id": "93c72a32",
   "metadata": {},
   "source": [
    "##### Regex - HTML Parser - Part 1\n",
    "\n"
   ]
  },
  {
   "cell_type": "code",
   "execution_count": null,
   "id": "44d4bd6d",
   "metadata": {},
   "outputs": [],
   "source": [
    "import re\n",
    "from html.parser import HTMLParser\n",
    "\n",
    "N = int(input())\n",
    "\n",
    "class MyHTMLParser(HTMLParser):\n",
    "    \n",
    "    def handle_starttag(self, tag, attrs):\n",
    "        print(f\"Start : {tag}\")\n",
    "        for attribute,value in attrs:\n",
    "            print(f\"-> {attribute} > {value}\")\n",
    "\n",
    "    def handle_startendtag(self, tag, attrs):\n",
    "        print(f\"Empty : {tag}\")\n",
    "        for attribute,value in attrs:\n",
    "            print(f\"-> {attribute} > {value}\")\n",
    "\n",
    "    def handle_endtag(self, tag):\n",
    "        print(f\"End   : {tag}\")\n",
    "\n",
    "\n",
    "MyHTMLParser = MyHTMLParser()\n",
    "for _ in range(N):\n",
    "    MyHTMLParser.feed(input())\n",
    "MyHTMLParser.close()\n"
   ]
  },
  {
   "cell_type": "markdown",
   "id": "dbe68e08",
   "metadata": {},
   "source": [
    "##### Regex - HTML Parser - Part 2\n",
    "\n"
   ]
  },
  {
   "cell_type": "code",
   "execution_count": null,
   "id": "33064b2e",
   "metadata": {},
   "outputs": [],
   "source": [
    "import re\n",
    "from html.parser import HTMLParser\n",
    "\n",
    "\n",
    "class MyHTMLParser(HTMLParser):\n",
    "    def handle_data(self, data):\n",
    "        if len(data) > 1:\n",
    "            print(\">>> Data\")\n",
    "            print(data)\n",
    "  \n",
    "    def handle_comment(self, data):\n",
    "        if len(str(data).split('\\n')) > 1:\n",
    "            print('>>> Multi-line Comment')  \n",
    "            print(data)\n",
    "        else:\n",
    "            print('>>> Single-line Comment')\n",
    "            print(data)\n",
    "  \n",
    "html = \"\"       \n",
    "for i in range(int(input())):\n",
    "    html += input().rstrip()\n",
    "    html += '\\n'\n",
    "    \n",
    "parser = MyHTMLParser()\n",
    "parser.feed(html)\n",
    "parser.close()\n"
   ]
  },
  {
   "cell_type": "markdown",
   "id": "455578e5",
   "metadata": {},
   "source": [
    "##### Regex - Detect HTML Tags, Attributes and Attribute Values\n",
    "\n"
   ]
  },
  {
   "cell_type": "code",
   "execution_count": null,
   "id": "7c62e811",
   "metadata": {},
   "outputs": [],
   "source": [
    "import re\n",
    "from html.parser import HTMLParser\n",
    "\n",
    "N = int(input())\n",
    "class Parser(HTMLParser):\n",
    "    def handle_starttag(self ,tag ,attrs):\n",
    "        print(tag)\n",
    "        for attribute ,value in attrs:\n",
    "            print(f\"-> {attribute} > {value}\")\n",
    "    \n",
    "html = Parser()\n",
    "for i in range(N):\n",
    "    code = input()\n",
    "    html.feed(code)\n"
   ]
  },
  {
   "cell_type": "markdown",
   "id": "1b96298f",
   "metadata": {},
   "source": [
    "##### Regex - Validating UID\n",
    "\n"
   ]
  },
  {
   "cell_type": "code",
   "execution_count": null,
   "id": "1a3e839d",
   "metadata": {},
   "outputs": [],
   "source": [
    "import re\n",
    "T = int(input())\n",
    "regole= r\"^(?=(?:[a-z\\d]*[A-Z]){2})(?=(?:\\D*\\d){3})(?:([a-zA-Z\\d])(?!.*\\1)){10}$\"\n",
    "for i in range(T):\n",
    "    UID = input()\n",
    "    confronto = re.match(regole, UID)\n",
    "    if confronto:\n",
    "        print(\"Valid\")\n",
    "    else:\n",
    "        print(\"Invalid\")\n"
   ]
  },
  {
   "cell_type": "markdown",
   "id": "d07b6b60",
   "metadata": {},
   "source": [
    "##### XML 1 - Find the Score\n",
    "\n"
   ]
  },
  {
   "cell_type": "code",
   "execution_count": null,
   "id": "d5b7d4eb",
   "metadata": {},
   "outputs": [],
   "source": [
    "def get_attr_number(node):\n",
    "    # your code goes here\n",
    "    count = 0\n",
    "    for i in node.iter():\n",
    "        count = count + (len(i.items()))\n",
    "    return count\n",
    "\n"
   ]
  },
  {
   "cell_type": "markdown",
   "id": "51d43545",
   "metadata": {},
   "source": [
    "##### XML2 - Find the Maximum Depth\n",
    "\n"
   ]
  },
  {
   "cell_type": "code",
   "execution_count": null,
   "id": "b2d8a3b9",
   "metadata": {},
   "outputs": [],
   "source": [
    "maxdepth = 0\n",
    "def depth(elem, level):\n",
    "    global maxdepth\n",
    "    # your code goes here\n",
    "    for i in elem:\n",
    "        depth(i, level+1)\n",
    "    maxdepth = max(level+1, maxdepth)\n"
   ]
  },
  {
   "cell_type": "markdown",
   "id": "fe7bac94",
   "metadata": {},
   "source": [
    "##### Closures and Decorations - Standardize Mobile Number Using Decorators\n",
    "\n"
   ]
  },
  {
   "cell_type": "code",
   "execution_count": null,
   "id": "710d6251",
   "metadata": {},
   "outputs": [],
   "source": [
    "def wrapper(f):\n",
    "    def fun(l):\n",
    "        # complete the function\n",
    "        numero = []\n",
    "        for i in l:\n",
    "            numero.append(\"+91 \"+i[-10:-5]+\" \"+ i[-5:])\n",
    "        return f(numero)\n",
    "    return fun\n"
   ]
  },
  {
   "cell_type": "markdown",
   "id": "f9207786",
   "metadata": {},
   "source": [
    "##### Closures and Decorations - Decorators 2 - Name Directory\n",
    "\n"
   ]
  },
  {
   "cell_type": "code",
   "execution_count": null,
   "id": "ada97806",
   "metadata": {},
   "outputs": [],
   "source": [
    "def person_lister(f):\n",
    "    def inner(people):\n",
    "        # complete the function\n",
    "        \n",
    "        return map(f, sorted(people, key=lambda x: int(x[2])))\n",
    "\n",
    "    return inner\n",
    "\n"
   ]
  },
  {
   "cell_type": "markdown",
   "id": "19c864fb",
   "metadata": {},
   "source": [
    "##### Numpy - Arrays\n",
    "\n"
   ]
  },
  {
   "cell_type": "code",
   "execution_count": null,
   "id": "b4c2d505",
   "metadata": {},
   "outputs": [],
   "source": [
    "def arrays(arr):\n",
    "    # complete this function\n",
    "    # use numpy.array\n",
    "    \n",
    "    arr.reverse()\n",
    "    a = numpy.array(arr, float)\n",
    "    return a"
   ]
  },
  {
   "cell_type": "markdown",
   "id": "a8b98e44",
   "metadata": {},
   "source": [
    "##### Numpy - Shape and Reshape\n",
    "\n"
   ]
  },
  {
   "cell_type": "code",
   "execution_count": null,
   "id": "75ecc638",
   "metadata": {},
   "outputs": [],
   "source": [
    "import numpy\n",
    "\n",
    "matrice = numpy.array([list(map(int, input().split()))])\n",
    "print(numpy.reshape(matrice, (3,3)))\n"
   ]
  },
  {
   "cell_type": "markdown",
   "id": "9c4a0ec3",
   "metadata": {},
   "source": [
    "##### Numpy - Transpose and Flatten\n",
    "\n"
   ]
  },
  {
   "cell_type": "code",
   "execution_count": null,
   "id": "d24a09ec",
   "metadata": {},
   "outputs": [],
   "source": [
    "import numpy\n",
    "\n",
    "n,m = map(int,input().split())\n",
    "matrice = []\n",
    "for i in range(n):\n",
    "    righe = matrice.append(list(map(int,input().split())))\n",
    "my_array = numpy.array(matrice)\n",
    "print(numpy.transpose(my_array))\n",
    "\n",
    "print(my_array.flatten())\n"
   ]
  },
  {
   "cell_type": "markdown",
   "id": "09f36da0",
   "metadata": {},
   "source": [
    "##### Numpy - Concatenate\n",
    "\n"
   ]
  },
  {
   "cell_type": "code",
   "execution_count": null,
   "id": "2fe0b81e",
   "metadata": {},
   "outputs": [],
   "source": [
    "import numpy\n",
    "\n",
    "N,M,P = map(int,input().split())\n",
    "matrice1 = []\n",
    "matrice2 = []\n",
    "for i in range(N):\n",
    "    matrice1.append(list(map(int,input().split())))\n",
    "for i in range(M):\n",
    "    matrice2.append(list(map(int,input().split())))\n",
    "array1 = numpy.array(matrice1)\n",
    "array2 = numpy.array(matrice2)\n",
    "print(numpy.concatenate((array1, array2), axis = 0))\n"
   ]
  },
  {
   "cell_type": "markdown",
   "id": "06bd4ecf",
   "metadata": {},
   "source": [
    "##### Numpy - Zeros and Ones"
   ]
  },
  {
   "cell_type": "code",
   "execution_count": null,
   "id": "a335336c",
   "metadata": {},
   "outputs": [],
   "source": [
    "import numpy\n",
    "\n",
    "n=list(map(int,input().split()))\n",
    "\n",
    "a= numpy.zeros(n, int)\n",
    "b = numpy.ones(n, int)\n",
    "print(a, b, sep= \"\\n\")\n"
   ]
  },
  {
   "cell_type": "markdown",
   "id": "ec81334b",
   "metadata": {},
   "source": [
    "##### Numpy - Eye and Identity\n"
   ]
  },
  {
   "cell_type": "code",
   "execution_count": null,
   "id": "9d640d0c",
   "metadata": {},
   "outputs": [],
   "source": [
    "import numpy\n",
    "numpy.set_printoptions(legacy = '1.13')\n",
    "\n",
    "N,M = map(int, input().split())\n",
    "print(numpy.eye(N,M, k=0))\n",
    "\n"
   ]
  },
  {
   "cell_type": "markdown",
   "id": "f8b7f7d4",
   "metadata": {},
   "source": [
    "##### Numpy - Array Mathematics\n",
    "\n"
   ]
  },
  {
   "cell_type": "code",
   "execution_count": null,
   "id": "0388d7bd",
   "metadata": {},
   "outputs": [],
   "source": [
    "import numpy\n",
    "N,M = map(int, input().split())\n",
    "A= []\n",
    "B = []\n",
    "for i in range(N):\n",
    "    A.append(numpy.array(input().split(), int))\n",
    "for i in range(N):\n",
    "    B.append(numpy.array(input().split(), int))\n",
    "\n",
    "A = numpy.array(A, int)\n",
    "B = numpy.array(B, int)\n",
    "print(A+B)\n",
    "print(A-B)\n",
    "print(A*B)\n",
    "print(A//B)\n",
    "print(A%B)\n",
    "print(A**B)\n"
   ]
  },
  {
   "cell_type": "markdown",
   "id": "3aacdf3e",
   "metadata": {},
   "source": [
    "##### Numpy - Floor, Ceil and Rint\n",
    "\n"
   ]
  },
  {
   "cell_type": "code",
   "execution_count": null,
   "id": "075deb4a",
   "metadata": {},
   "outputs": [],
   "source": [
    "import numpy\n",
    "\n",
    "numpy.set_printoptions(legacy='1.13')\n",
    "A = list(map(float, input().split()))\n",
    "my_array = numpy.array(A)\n",
    "print(numpy.floor(my_array))\n",
    "print(numpy.ceil(my_array))\n",
    "print(numpy.rint(my_array))\n"
   ]
  },
  {
   "cell_type": "markdown",
   "id": "5b31b075",
   "metadata": {},
   "source": [
    "##### Numpy - Sum and Prod\n",
    "\n"
   ]
  },
  {
   "cell_type": "code",
   "execution_count": null,
   "id": "7988b9be",
   "metadata": {},
   "outputs": [],
   "source": [
    "import numpy\n",
    "\n",
    "\n",
    "N, M = map(int, input().split())\n",
    "matrice = []\n",
    "for i in range(N):\n",
    "    matrice.append(list(map(int, input().split())))\n",
    "my_array = numpy.array(matrice)\n",
    "print(numpy.prod(numpy.sum(matrice, axis = 0)))\n"
   ]
  },
  {
   "cell_type": "markdown",
   "id": "d00a4149",
   "metadata": {},
   "source": [
    "##### Numpy - Min and Max"
   ]
  },
  {
   "cell_type": "code",
   "execution_count": null,
   "id": "6868545f",
   "metadata": {},
   "outputs": [],
   "source": [
    "import numpy\n",
    "\n",
    "\n",
    "N,M = map(int,input().split())\n",
    "matrice = []\n",
    "for i in range(N):\n",
    "    matrice.append(list(map(int,input().split())))\n",
    "my_array = numpy.array(matrice)\n",
    "print(numpy.max(numpy.min(my_array,axis = 1)))\n"
   ]
  },
  {
   "cell_type": "markdown",
   "id": "2a1abe9f",
   "metadata": {},
   "source": [
    "##### Numpy - Mean, Var, and Std"
   ]
  },
  {
   "cell_type": "code",
   "execution_count": null,
   "id": "94646b71",
   "metadata": {},
   "outputs": [],
   "source": [
    "import numpy\n",
    "N,M = map(int, input().split())\n",
    "matrice = []\n",
    "for i in range(N):\n",
    "    matrice.append(list(map(int, input().split())))\n",
    "my_array = numpy.array(matrice)\n",
    "print(numpy.mean(my_array, axis = 1))\n",
    "print(numpy.var(my_array, axis = 0))\n",
    "print(round(numpy.std(my_array, axis = None),11))\n"
   ]
  },
  {
   "cell_type": "markdown",
   "id": "980e62cb",
   "metadata": {},
   "source": [
    "##### Numpy - Dot and Cross"
   ]
  },
  {
   "cell_type": "code",
   "execution_count": null,
   "id": "2a2cd2b3",
   "metadata": {},
   "outputs": [],
   "source": [
    "import numpy\n",
    "\n",
    "N = int(input())\n",
    "A1 = []\n",
    "B1 = []\n",
    "for i in range(N):\n",
    "    A1.append(list(map(int, input().split())))\n",
    "for i in range(N):\n",
    "    B1.append(list(map(int, input().split())))\n",
    "\n",
    "A = numpy.array(A1)\n",
    "B = numpy.array(B1)\n",
    "\n",
    "print(numpy.dot(A,B))\n"
   ]
  },
  {
   "cell_type": "markdown",
   "id": "3aefd203",
   "metadata": {},
   "source": [
    "##### Numpy - Inner and Outer\n"
   ]
  },
  {
   "cell_type": "code",
   "execution_count": null,
   "id": "7a5a18f2",
   "metadata": {},
   "outputs": [],
   "source": [
    "import numpy\n",
    "\n",
    "A1 = list(map(int, input().split()))\n",
    "B1 = list(map(int, input().split()))\n",
    "\n",
    "A = numpy.array(A1)\n",
    "B = numpy.array(B1)\n",
    "print(numpy.inner(A,B))\n",
    "print(numpy.outer(A,B))\n"
   ]
  },
  {
   "cell_type": "markdown",
   "id": "09d4ad95",
   "metadata": {},
   "source": [
    "##### Numpy - Polynomials\n",
    "\n"
   ]
  },
  {
   "cell_type": "code",
   "execution_count": null,
   "id": "4ddf17db",
   "metadata": {},
   "outputs": [],
   "source": [
    "import numpy\n",
    "P = list(map(float,input().split()))\n",
    "X = int(input())\n",
    "print(numpy.polyval(P,X))\n"
   ]
  },
  {
   "cell_type": "markdown",
   "id": "e1342a5a",
   "metadata": {},
   "source": [
    "##### Numpy - Linear Algebra\n"
   ]
  },
  {
   "cell_type": "code",
   "execution_count": null,
   "id": "9821ecad",
   "metadata": {},
   "outputs": [],
   "source": [
    "import numpy\n",
    "N = int(input())\n",
    "A=[]\n",
    "for i in range(N):\n",
    "    A.append(list(map(float,input().split())))\n",
    "my_array = numpy.array(A)\n",
    "print(round(numpy.linalg.det(my_array),2))\n"
   ]
  },
  {
   "cell_type": "markdown",
   "id": "b7b257bc",
   "metadata": {},
   "source": [
    "##### Birthday Cake Candles\n"
   ]
  },
  {
   "cell_type": "code",
   "execution_count": null,
   "id": "cb46dfda",
   "metadata": {},
   "outputs": [],
   "source": [
    "#!/bin/python3\n",
    "\n",
    "import math\n",
    "import os\n",
    "import random\n",
    "import re\n",
    "import sys\n",
    "\n",
    "#\n",
    "# Complete the 'birthdayCakeCandles' function below.\n",
    "#\n",
    "# The function is expected to return an INTEGER.\n",
    "# The function accepts INTEGER_ARRAY candles as parameter.\n",
    "#\n",
    "\n",
    "def birthdayCakeCandles(candles):\n",
    "    contatore = 0\n",
    "    massimo = max(candles)\n",
    "    for i in range(len(candles)):\n",
    "        if candles[i] == massimo:\n",
    "            contatore += 1\n",
    "    return contatore\n",
    "        \n",
    "        \n",
    "    # Write your code here\n",
    "\n",
    "if __name__ == '__main__':\n",
    "    fptr = open(os.environ['OUTPUT_PATH'], 'w')\n",
    "    candles_count = int(input().strip())\n",
    "    candles = list(map(int, input().rstrip().split()))\n",
    "    result = birthdayCakeCandles(candles)\n",
    "    fptr.write(str(result) + '\\n')\n",
    "    fptr.close()\n"
   ]
  },
  {
   "cell_type": "markdown",
   "id": "ab13d1c5",
   "metadata": {},
   "source": [
    "##### Number Line Jumps\n"
   ]
  },
  {
   "cell_type": "code",
   "execution_count": null,
   "id": "7575ea62",
   "metadata": {},
   "outputs": [],
   "source": [
    "#!/bin/python3\n",
    "\n",
    "import math\n",
    "import os\n",
    "import random\n",
    "import re\n",
    "import sys\n",
    "\n",
    "#\n",
    "# Complete the 'kangaroo' function below.\n",
    "#\n",
    "# The function is expected to return a STRING.\n",
    "# The function accepts following parameters:\n",
    "#  1. INTEGER x1\n",
    "#  2. INTEGER v1\n",
    "#  3. INTEGER x2\n",
    "#  4. INTEGER v2\n",
    "#\n",
    "\n",
    "def kangaroo(x1, v1, x2, v2):\n",
    "    c = x2-x1\n",
    "    # Write your code here\n",
    "    for i in range(c):\n",
    "        x1=x1 + v1\n",
    "        x2=x2 + v2\n",
    "        if x1 == x2:\n",
    "            return \"YES\"\n",
    "            \n",
    "    return \"NO\"\n",
    "\n",
    "if __name__ == '__main__':\n",
    "    fptr = open(os.environ['OUTPUT_PATH'], 'w')\n",
    "    first_multiple_input = input().rstrip().split()\n",
    "    x1 = int(first_multiple_input[0])\n",
    "    v1 = int(first_multiple_input[1])\n",
    "    x2 = int(first_multiple_input[2])\n",
    "    v2 = int(first_multiple_input[3])\n",
    "    result = kangaroo(x1, v1, x2, v2)\n",
    "    fptr.write(result + '\\n')\n",
    "    fptr.close()"
   ]
  },
  {
   "cell_type": "markdown",
   "id": "153876b3",
   "metadata": {},
   "source": [
    "##### Viral Advertising\n"
   ]
  },
  {
   "cell_type": "code",
   "execution_count": null,
   "id": "6a11cdf1",
   "metadata": {},
   "outputs": [],
   "source": [
    "#!/bin/python3\n",
    "\n",
    "import math\n",
    "import os\n",
    "import random\n",
    "import re\n",
    "import sys\n",
    "\n",
    "#\n",
    "# Complete the 'viralAdvertising' function below.\n",
    "#\n",
    "# The function is expected to return an INTEGER.\n",
    "# The function accepts INTEGER n as parameter.\n",
    "#\n",
    "\n",
    "def viralAdvertising(n):\n",
    "    # Write your code here\n",
    "    condivisioni = 5\n",
    "    cumulata = 0\n",
    "    for i in range(n):\n",
    "        piace = condivisioni//2\n",
    "        condivisioni = piace*3\n",
    "        cumulata = cumulata + piace\n",
    "    \n",
    "    return cumulata\n",
    "\n",
    "    \n",
    "if __name__ == '__main__':\n",
    "    fptr = open(os.environ['OUTPUT_PATH'], 'w')\n",
    "    n = int(input().strip())\n",
    "    result = viralAdvertising(n)\n",
    "    fptr.write(str(result) + '\\n')\n",
    "    fptr.close()"
   ]
  },
  {
   "cell_type": "markdown",
   "id": "63a9603a",
   "metadata": {},
   "source": [
    "##### Recursive Digit Sum"
   ]
  },
  {
   "cell_type": "code",
   "execution_count": null,
   "id": "c298ac68",
   "metadata": {},
   "outputs": [],
   "source": [
    "#!/bin/python3\n",
    "\n",
    "import math\n",
    "import os\n",
    "import random\n",
    "import re\n",
    "import sys\n",
    "\n",
    "#\n",
    "# Complete the 'superDigit' function below.\n",
    "#\n",
    "# The function is expected to return an INTEGER.\n",
    "# The function accepts following parameters:\n",
    "#  1. STRING n\n",
    "#  2. INTEGER k\n",
    "#\n",
    "\n",
    "\n",
    "def superDigit(n, k):\n",
    "    # Write your code here\n",
    "    if(len(n)==1 and k == 1):\n",
    "        return int(n)\n",
    "    else:\n",
    "        numero = list(map(int,n))\n",
    "        tot = sum(numero)\n",
    "        return superDigit(str(tot*k), 1)\n",
    "\n",
    "\n",
    "if __name__ == '__main__':\n",
    "    fptr = open(os.environ['OUTPUT_PATH'], 'w')\n",
    "    first_multiple_input = input().rstrip().split()\n",
    "    n = first_multiple_input[0]\n",
    "    k = int(first_multiple_input[1])\n",
    "    result = superDigit(n, k)\n",
    "    fptr.write(str(result) + '\\n')\n",
    "    fptr.close()"
   ]
  },
  {
   "cell_type": "markdown",
   "id": "79daf322",
   "metadata": {},
   "source": [
    "##### Insertion Sort - Part 1"
   ]
  },
  {
   "cell_type": "code",
   "execution_count": null,
   "id": "7f68222a",
   "metadata": {},
   "outputs": [],
   "source": [
    "#!/bin/python3\n",
    "\n",
    "import math\n",
    "import os\n",
    "import random\n",
    "import re\n",
    "import sys\n",
    "\n",
    "#\n",
    "# Complete the 'insertionSort1' function below.\n",
    "#\n",
    "# The function accepts following parameters:\n",
    "#  1. INTEGER n\n",
    "#  2. INTEGER_ARRAY arr\n",
    "#\n",
    "\n",
    "def insertionSort1(n, arr):\n",
    "    # Write your code here\n",
    "    for i in range((n-1),0,-1):\n",
    "        if arr[i-1] > arr[i]:\n",
    "            numero = arr[i]\n",
    "            arr[i] = arr[i-1]\n",
    "            print(*arr)\n",
    "            arr[i-1] = numero\n",
    "    print(*arr)\n",
    "        \n",
    "    \n",
    "    \n",
    "if __name__ == '__main__':\n",
    "    n = int(input().strip())\n",
    "\n",
    "    arr = list(map(int, input().rstrip().split()))\n",
    "\n",
    "    insertionSort1(n, arr)\n"
   ]
  },
  {
   "cell_type": "markdown",
   "id": "f7701893",
   "metadata": {},
   "source": [
    "##### Insertion Sort - Part 2"
   ]
  },
  {
   "cell_type": "code",
   "execution_count": null,
   "id": "d8844a7d",
   "metadata": {},
   "outputs": [],
   "source": [
    "#!/bin/python3\n",
    "\n",
    "import math\n",
    "import os\n",
    "import random\n",
    "import re\n",
    "import sys\n",
    "\n",
    "#\n",
    "# Complete the 'insertionSort2' function below.\n",
    "#\n",
    "# The function accepts following parameters:\n",
    "#  1. INTEGER n\n",
    "#  2. INTEGER_ARRAY arr\n",
    "#\n",
    "\n",
    "def insertionSort2(n, arr):\n",
    "    # Write your code here\n",
    "    for i in range(1,n):\n",
    "        for j in range(i):\n",
    "            if arr[i] < arr[j]:\n",
    "                piccolo = arr[i]\n",
    "                arr[i] = arr[j]\n",
    "                arr[j] = piccolo\n",
    "        print(*arr)\n",
    "\n",
    "    return\n",
    "\n",
    "if __name__ == '__main__':\n",
    "    n = int(input().strip())\n",
    "\n",
    "    arr = list(map(int, input().rstrip().split()))\n",
    "\n",
    "    insertionSort2(n, arr)\n",
    "\n"
   ]
  },
  {
   "cell_type": "code",
   "execution_count": null,
   "id": "92586933",
   "metadata": {},
   "outputs": [],
   "source": []
  }
 ],
 "metadata": {
  "kernelspec": {
   "display_name": "Python 3 (ipykernel)",
   "language": "python",
   "name": "python3"
  },
  "language_info": {
   "codemirror_mode": {
    "name": "ipython",
    "version": 3
   },
   "file_extension": ".py",
   "mimetype": "text/x-python",
   "name": "python",
   "nbconvert_exporter": "python",
   "pygments_lexer": "ipython3",
   "version": "3.9.12"
  }
 },
 "nbformat": 4,
 "nbformat_minor": 5
}
